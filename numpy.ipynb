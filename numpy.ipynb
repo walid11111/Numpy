{
 "cells": [
  {
   "cell_type": "markdown",
   "id": "88d72c43-ef49-47ac-b599-607a5b69c27a",
   "metadata": {},
   "source": [
    "# Numpy Array Tutorials"
   ]
  },
  {
   "cell_type": "markdown",
   "id": "5a32418c-d795-4f52-9367-2e48d7099939",
   "metadata": {},
   "source": [
    "## 1: arrays 1D 2D 3D\n",
    "## 2: array zeros , ones , identity(), arrange() , empty, lines space,using copy ,random, \n",
    "## 5: using copy\n",
    "\n",
    "## ......................finish\n"
   ]
  },
  {
   "cell_type": "markdown",
   "id": "c945655d-026b-4ed0-a97d-1a555a035b13",
   "metadata": {},
   "source": [
    "# create numpy N_D array(1D, 2D,3D)\n",
    "### create 1 D array"
   ]
  },
  {
   "cell_type": "code",
   "execution_count": 3,
   "id": "db9351a3-9fb9-414d-b7b5-09d03319879d",
   "metadata": {},
   "outputs": [],
   "source": [
    "import numpy as np"
   ]
  },
  {
   "cell_type": "code",
   "execution_count": 11,
   "id": "f9515ff4-fd33-4d43-97f8-2b7d98944d69",
   "metadata": {},
   "outputs": [
    {
     "data": {
      "text/plain": [
       "array([1, 2, 3, 4, 5])"
      ]
     },
     "execution_count": 11,
     "metadata": {},
     "output_type": "execute_result"
    }
   ],
   "source": [
    "arr1=np.array([1,2,3,4,5])\n",
    "arr1"
   ]
  },
  {
   "cell_type": "code",
   "execution_count": 15,
   "id": "5f883424-c72b-4c37-ac53-f5feae056a09",
   "metadata": {},
   "outputs": [
    {
     "data": {
      "text/plain": [
       "1"
      ]
     },
     "execution_count": 15,
     "metadata": {},
     "output_type": "execute_result"
    }
   ],
   "source": [
    "# print its dimention\n",
    "arr1.ndim"
   ]
  },
  {
   "cell_type": "code",
   "execution_count": 16,
   "id": "c7ada4c4-9916-4eb1-8bc5-88f2b751508c",
   "metadata": {},
   "outputs": [
    {
     "data": {
      "text/plain": [
       "(5,)"
      ]
     },
     "execution_count": 16,
     "metadata": {},
     "output_type": "execute_result"
    }
   ],
   "source": [
    "#print its shape  (in one dimention it just give the values)\n",
    "arr1.shape"
   ]
  },
  {
   "cell_type": "code",
   "execution_count": 25,
   "id": "e657ea0f-c582-43fb-ba98-332cd0d9e67f",
   "metadata": {},
   "outputs": [
    {
     "data": {
      "text/plain": [
       "5"
      ]
     },
     "execution_count": 25,
     "metadata": {},
     "output_type": "execute_result"
    }
   ],
   "source": [
    "len(arr1)  # len function basically give the number of dimentions (khu dalta chunky one dimention d nu srip values rkai)"
   ]
  },
  {
   "cell_type": "markdown",
   "id": "0d7406b8-a90b-41f7-bcaa-450a4b152818",
   "metadata": {},
   "source": [
    "### create 2D array"
   ]
  },
  {
   "cell_type": "code",
   "execution_count": 10,
   "id": "e961eb21-b234-4877-91e7-79becfd83b6c",
   "metadata": {},
   "outputs": [
    {
     "data": {
      "text/plain": [
       "array([[1, 2, 3, 4],\n",
       "       [3, 4, 5, 6]])"
      ]
     },
     "execution_count": 10,
     "metadata": {},
     "output_type": "execute_result"
    }
   ],
   "source": [
    "\n",
    "arr2=np.array([[1,2,3,4],[3,4,5,6]])\n",
    "arr2"
   ]
  },
  {
   "cell_type": "code",
   "execution_count": 20,
   "id": "6ca08b86-5ede-441a-9ea3-ee0de9968d07",
   "metadata": {},
   "outputs": [
    {
     "data": {
      "text/plain": [
       "2"
      ]
     },
     "execution_count": 20,
     "metadata": {},
     "output_type": "execute_result"
    }
   ],
   "source": [
    "arr2.ndim"
   ]
  },
  {
   "cell_type": "code",
   "execution_count": 22,
   "id": "4a4a6508-7bdd-4a46-8fba-26366c153172",
   "metadata": {},
   "outputs": [
    {
     "data": {
      "text/plain": [
       "(2, 4)"
      ]
     },
     "execution_count": 22,
     "metadata": {},
     "output_type": "execute_result"
    }
   ],
   "source": [
    "arr2.shape"
   ]
  },
  {
   "cell_type": "code",
   "execution_count": 23,
   "id": "2753b51f-57a6-4f18-8397-ecf647eaa5c2",
   "metadata": {},
   "outputs": [
    {
     "data": {
      "text/plain": [
       "2"
      ]
     },
     "execution_count": 23,
     "metadata": {},
     "output_type": "execute_result"
    }
   ],
   "source": [
    "len(arr2)"
   ]
  },
  {
   "cell_type": "markdown",
   "id": "30adb604-04e3-403d-a141-176ac9a53892",
   "metadata": {},
   "source": [
    "### Create 3D Dimentional array"
   ]
  },
  {
   "cell_type": "code",
   "execution_count": 27,
   "id": "e0156e7a-7572-4ebb-b2f1-9ea7b56b500d",
   "metadata": {},
   "outputs": [
    {
     "data": {
      "text/plain": [
       "array([[[ 1,  2],\n",
       "        [ 5,  6]],\n",
       "\n",
       "       [[ 6,  7],\n",
       "        [10,  2]]])"
      ]
     },
     "execution_count": 27,
     "metadata": {},
     "output_type": "execute_result"
    }
   ],
   "source": [
    "arr3=np.array([[[1,2],[5,6]],[[6,7],[10,2]]]) # list within a list within a list ( draw in copy the 3 d array)\n",
    "arr3"
   ]
  },
  {
   "cell_type": "code",
   "execution_count": 30,
   "id": "9b4af32f-0336-4fd0-88df-4d41a1f0d10d",
   "metadata": {},
   "outputs": [
    {
     "data": {
      "text/plain": [
       "3"
      ]
     },
     "execution_count": 30,
     "metadata": {},
     "output_type": "execute_result"
    }
   ],
   "source": [
    "arr3.ndim  # print 3 dimention array"
   ]
  },
  {
   "cell_type": "code",
   "execution_count": 29,
   "id": "a36f50dc-458a-4369-b243-83cba7ff00c3",
   "metadata": {},
   "outputs": [
    {
     "data": {
      "text/plain": [
       "(2, 2, 2)"
      ]
     },
     "execution_count": 29,
     "metadata": {},
     "output_type": "execute_result"
    }
   ],
   "source": [
    "arr3.shape"
   ]
  },
  {
   "cell_type": "markdown",
   "id": "51ef8e4a-dc57-4aac-b4ef-c6bc9220b448",
   "metadata": {},
   "source": [
    "\n",
    "# 2: array zeros , ones , identity(), arrange() , empty, lines space, random, "
   ]
  },
  {
   "cell_type": "code",
   "execution_count": 37,
   "id": "9e682ba9-1a8a-4ec6-a5c4-8a936cbb564f",
   "metadata": {},
   "outputs": [
    {
     "data": {
      "text/plain": [
       "array([[0., 0., 0., 0.],\n",
       "       [0., 0., 0., 0.],\n",
       "       [0., 0., 0., 0.]])"
      ]
     },
     "execution_count": 37,
     "metadata": {},
     "output_type": "execute_result"
    }
   ],
   "source": [
    "arr4=np.zeros((3,4))\n",
    "arr4"
   ]
  },
  {
   "cell_type": "code",
   "execution_count": 39,
   "id": "01d930e1-7813-42c6-8dd8-11c80ec99d01",
   "metadata": {},
   "outputs": [
    {
     "data": {
      "text/plain": [
       "array([[1, 1, 1],\n",
       "       [1, 1, 1],\n",
       "       [1, 1, 1]])"
      ]
     },
     "execution_count": 39,
     "metadata": {},
     "output_type": "execute_result"
    }
   ],
   "source": [
    "arr5=np.ones((3,3),dtype=int)   # in the above by default the array give float but it we want to integer then we mention to it\n",
    "arr5"
   ]
  },
  {
   "cell_type": "code",
   "execution_count": 44,
   "id": "1db2852c-0c55-4659-b4e2-9c019d141374",
   "metadata": {},
   "outputs": [
    {
     "data": {
      "text/plain": [
       "array([[1., 0., 0.],\n",
       "       [0., 1., 0.],\n",
       "       [0., 0., 1.]])"
      ]
     },
     "execution_count": 44,
     "metadata": {},
     "output_type": "execute_result"
    }
   ],
   "source": [
    "arr6=np.identity(3)   # or arr6 =np.eye(3)\n",
    "arr6"
   ]
  },
  {
   "cell_type": "code",
   "execution_count": 53,
   "id": "153ce2ad-a365-418e-9228-3db36cd899e5",
   "metadata": {},
   "outputs": [
    {
     "data": {
      "text/plain": [
       "array([0, 1, 2, 3, 4, 5, 6, 7, 8, 9])"
      ]
     },
     "execution_count": 53,
     "metadata": {},
     "output_type": "execute_result"
    }
   ],
   "source": [
    "arr7=np.arange(10) # np.arange function in NumPy is used to create an array containing a sequence of numbers\n",
    "arr7"
   ]
  },
  {
   "cell_type": "code",
   "execution_count": 48,
   "id": "6f8bf299-c790-4e69-bd38-a078a537a8f3",
   "metadata": {},
   "outputs": [
    {
     "data": {
      "text/plain": [
       "array([ 5, 10, 15, 20, 25, 30, 35, 40, 45])"
      ]
     },
     "execution_count": 48,
     "metadata": {},
     "output_type": "execute_result"
    }
   ],
   "source": [
    "# create an array start from 5 , stop 50, and stepping by 5\n",
    "#Function Definition: np.arange(start, stop, step, dtype=None)  genral formula\n",
    "arr8=np.arange(5,50,5)\n",
    "arr8"
   ]
  },
  {
   "cell_type": "code",
   "execution_count": 58,
   "id": "d8bb591f-7e69-4d0b-aba1-5d9f5b05a30a",
   "metadata": {},
   "outputs": [
    {
     "data": {
      "text/plain": [
       "array([2.        , 2.11111111, 2.22222222, 2.33333333, 2.44444444,\n",
       "       2.55555556, 2.66666667, 2.77777778, 2.88888889, 3.        ])"
      ]
     },
     "execution_count": 58,
     "metadata": {},
     "output_type": "execute_result"
    }
   ],
   "source": [
    "arr9=np.linspace(2,3,10)  #When you use np.linspace(2, 3, 10), it generates 10 evenly spaced values between 2 and 3,\n",
    "arr9"
   ]
  },
  {
   "cell_type": "code",
   "execution_count": 60,
   "id": "77c72fb6-6b97-456f-b010-2e33375942d7",
   "metadata": {},
   "outputs": [
    {
     "data": {
      "text/plain": [
       "array([2.        , 2.11111111, 2.22222222, 2.33333333, 2.44444444,\n",
       "       2.55555556, 2.66666667, 2.77777778, 2.88888889, 3.        ])"
      ]
     },
     "execution_count": 60,
     "metadata": {},
     "output_type": "execute_result"
    }
   ],
   "source": [
    "arr10=arr9.copy()\n",
    "arr10"
   ]
  },
  {
   "cell_type": "code",
   "execution_count": 65,
   "id": "028dc5f5-2e31-4737-b97c-154b655c4467",
   "metadata": {},
   "outputs": [
    {
     "data": {
      "text/plain": [
       "array([[[0.33221243],\n",
       "        [0.99084001],\n",
       "        [0.19551994],\n",
       "        [0.8967585 ],\n",
       "        [0.55493201],\n",
       "        [0.27540267],\n",
       "        [0.53524253],\n",
       "        [0.88173081],\n",
       "        [0.29323285],\n",
       "        [0.89270011]]])"
      ]
     },
     "execution_count": 65,
     "metadata": {},
     "output_type": "execute_result"
    }
   ],
   "source": [
    "arr11=np.random.rand(1,10,1)  '''  Using np.random.rand(1, 10, 1)\n",
    "The function np.random.rand(1, 10, 1) creates an array of random numbers between 0 and 1 with the specified shape. Let’s break down the shape (1, 10, 1):\n",
    "\n",
    "1: The first dimension has 1 element.\n",
    "10: The second dimension has 10 elements.\n",
    "1: The third dimension has 1 element.\n",
    "The output will be a 3D array (with dimensions 1x10x1) filled with random numbers between 0 and 1. '''\n",
    "\n",
    "arr11  \n",
    "\n",
    "#This means you're creating an array with 1 group, each containing 10 rows, and each row containing 1 number\n"
   ]
  },
  {
   "cell_type": "markdown",
   "id": "b42a5c79-2eed-4679-be6c-9b713c37f4e9",
   "metadata": {},
   "source": [
    "# Properties And Attribute\n",
    "\n",
    "### 1:shape\n",
    "### 2:Ndin\n",
    "### 3:size\n",
    "### 4:itemsize\n",
    "### 5:dtype\n",
    "### 6:astype()\n",
    "### and some more operation line min, max, mean, median, and so on\n"
   ]
  },
  {
   "cell_type": "code",
   "execution_count": 3,
   "id": "d63e1c2f-7adf-4ec0-93d4-f21bf870dccc",
   "metadata": {},
   "outputs": [
    {
     "data": {
      "text/plain": [
       "array([[1, 2, 3, 4],\n",
       "       [3, 4, 5, 6]])"
      ]
     },
     "execution_count": 3,
     "metadata": {},
     "output_type": "execute_result"
    }
   ],
   "source": [
    "\n",
    "arr2=np.array([[1,2,3,4],[3,4,5,6]])\n",
    "arr2"
   ]
  },
  {
   "cell_type": "code",
   "execution_count": 4,
   "id": "4095e8c6-8f3f-4f6e-9149-25b794827b08",
   "metadata": {},
   "outputs": [
    {
     "data": {
      "text/plain": [
       "8"
      ]
     },
     "execution_count": 4,
     "metadata": {},
     "output_type": "execute_result"
    }
   ],
   "source": [
    "# the above two already complete\n",
    "arr2.size"
   ]
  },
  {
   "cell_type": "code",
   "execution_count": 5,
   "id": "62bd6d0b-cf01-48b6-a666-fe2a2ca6c1a4",
   "metadata": {},
   "outputs": [
    {
     "data": {
      "text/plain": [
       "4"
      ]
     },
     "execution_count": 5,
     "metadata": {},
     "output_type": "execute_result"
    }
   ],
   "source": [
    "arr2.itemsize    # it the repesent the like this data is inter then it show 4"
   ]
  },
  {
   "cell_type": "code",
   "execution_count": 6,
   "id": "0555cad2-0d09-46a6-97cf-0f06fea15232",
   "metadata": {},
   "outputs": [
    {
     "data": {
      "text/plain": [
       "dtype('int32')"
      ]
     },
     "execution_count": 6,
     "metadata": {},
     "output_type": "execute_result"
    }
   ],
   "source": [
    "arr2.dtype    # show the type"
   ]
  },
  {
   "cell_type": "code",
   "execution_count": 7,
   "id": "55a88c6a-a2ec-4177-80e2-810d9020590a",
   "metadata": {},
   "outputs": [
    {
     "data": {
      "text/plain": [
       "array([[1., 2., 3., 4.],\n",
       "       [3., 4., 5., 6.]])"
      ]
     },
     "execution_count": 7,
     "metadata": {},
     "output_type": "execute_result"
    }
   ],
   "source": [
    "arr2.astype(\"float\")   # astype function convet one types data to another type"
   ]
  },
  {
   "cell_type": "markdown",
   "id": "1cd16ca8-4d84-471b-8172-bc6f78d12887",
   "metadata": {},
   "source": [
    "# indexing, slicing ,interation"
   ]
  },
  {
   "cell_type": "markdown",
   "id": "652dc565-bcec-4c65-816d-78ad1b7d3564",
   "metadata": {},
   "source": [
    "## indexcing and silicing"
   ]
  },
  {
   "cell_type": "code",
   "execution_count": 45,
   "id": "a420699b-8f41-4b75-b9a8-5e4fbace821c",
   "metadata": {},
   "outputs": [
    {
     "data": {
      "text/plain": [
       "array([ 0,  1,  2,  3,  4,  5,  6,  7,  8,  9, 10, 11, 12, 13, 14, 15, 16,\n",
       "       17, 18, 19, 20, 21, 22, 23])"
      ]
     },
     "execution_count": 45,
     "metadata": {},
     "output_type": "execute_result"
    }
   ],
   "source": [
    "ar1=np.arange(24)\n",
    "ar1\n"
   ]
  },
  {
   "cell_type": "code",
   "execution_count": 10,
   "id": "bf2a8280-7a29-488a-addb-0863430ddf8f",
   "metadata": {},
   "outputs": [
    {
     "data": {
      "text/plain": [
       "array([[ 0,  1,  2,  3],\n",
       "       [ 4,  5,  6,  7],\n",
       "       [ 8,  9, 10, 11],\n",
       "       [12, 13, 14, 15],\n",
       "       [16, 17, 18, 19],\n",
       "       [20, 21, 22, 23]])"
      ]
     },
     "execution_count": 10,
     "metadata": {},
     "output_type": "execute_result"
    }
   ],
   "source": [
    "ar2=ar1.reshape(6,4)\n",
    "ar2"
   ]
  },
  {
   "cell_type": "code",
   "execution_count": 61,
   "id": "d6d75e6a-df0f-4e04-8966-e4bbb26c10c1",
   "metadata": {},
   "outputs": [
    {
     "data": {
      "text/plain": [
       "10"
      ]
     },
     "execution_count": 61,
     "metadata": {},
     "output_type": "execute_result"
    }
   ],
   "source": [
    "ar11=ar1[ar1>=3]=10   # condition \n",
    "ar11"
   ]
  },
  {
   "cell_type": "code",
   "execution_count": 62,
   "id": "6c4d3380-8bd2-4ca6-bbaf-421f64d1a0f3",
   "metadata": {},
   "outputs": [
    {
     "data": {
      "text/plain": [
       "array([ 0,  2, 10, 10, 10, 10, 10, 10, 10, 10, 10, 10, 10, 10, 10, 10, 10,\n",
       "       10, 10, 10, 10, 10, 10])"
      ]
     },
     "execution_count": 62,
     "metadata": {},
     "output_type": "execute_result"
    }
   ],
   "source": [
    "even=ar1[ar1%2==0] # for even number \n",
    "even"
   ]
  },
  {
   "cell_type": "code",
   "execution_count": 14,
   "id": "bbcf7fc7-7812-4cdb-9f28-73e936ca0518",
   "metadata": {},
   "outputs": [
    {
     "data": {
      "text/plain": [
       "array([ 2,  6, 10, 14, 18, 22])"
      ]
     },
     "execution_count": 14,
     "metadata": {},
     "output_type": "execute_result"
    }
   ],
   "source": [
    "ar1[:,2]   # specific 3rd columns"
   ]
  },
  {
   "cell_type": "code",
   "execution_count": 15,
   "id": "aa3dd94c-d146-46e4-997c-8dbfd82c6300",
   "metadata": {},
   "outputs": [
    {
     "data": {
      "text/plain": [
       "array([[ 2,  3],\n",
       "       [ 6,  7],\n",
       "       [10, 11],\n",
       "       [14, 15],\n",
       "       [18, 19],\n",
       "       [22, 23]])"
      ]
     },
     "execution_count": 15,
     "metadata": {},
     "output_type": "execute_result"
    }
   ],
   "source": [
    "ar1[:,2:]"
   ]
  },
  {
   "cell_type": "code",
   "execution_count": 24,
   "id": "97d61623-c92d-4bfc-8ddf-73397776d545",
   "metadata": {},
   "outputs": [
    {
     "data": {
      "text/plain": [
       "array([[18, 19],\n",
       "       [22, 23]])"
      ]
     },
     "execution_count": 24,
     "metadata": {},
     "output_type": "execute_result"
    }
   ],
   "source": [
    "ar2[4:,2:]"
   ]
  },
  {
   "cell_type": "code",
   "execution_count": 26,
   "id": "11938353-cff4-43bd-a5a1-dd39edcfc024",
   "metadata": {},
   "outputs": [
    {
     "data": {
      "text/plain": [
       "array([[ 5,  6],\n",
       "       [ 9, 10]])"
      ]
     },
     "execution_count": 26,
     "metadata": {},
     "output_type": "execute_result"
    }
   ],
   "source": [
    "ar2[1:3,1:3]"
   ]
  },
  {
   "cell_type": "code",
   "execution_count": 113,
   "id": "cbb039ce-8b0e-4dc5-bdce-e687f4b4ba74",
   "metadata": {},
   "outputs": [
    {
     "data": {
      "text/plain": [
       "array([[ 0,  1,  2,  3],\n",
       "       [ 4,  5,  6,  7],\n",
       "       [ 8,  9, 10, 11],\n",
       "       [12, 13, 14, 15],\n",
       "       [16, 17, 18, 19],\n",
       "       [20, 21, 22, 23]])"
      ]
     },
     "execution_count": 113,
     "metadata": {},
     "output_type": "execute_result"
    }
   ],
   "source": [
    "w1=np.arange(24).reshape(6,4)\n",
    "w1"
   ]
  },
  {
   "cell_type": "code",
   "execution_count": 114,
   "id": "b75ea18b-b60e-4c64-891c-55aca2e67d1d",
   "metadata": {},
   "outputs": [
    {
     "data": {
      "text/plain": [
       "array([[ 0,  1,  2,  3],\n",
       "       [ 8,  9, 10, 11],\n",
       "       [16, 17, 18, 19]])"
      ]
     },
     "execution_count": 114,
     "metadata": {},
     "output_type": "execute_result"
    }
   ],
   "source": [
    "w1[[0,2,4]]  # find the row 1, row 2, row 3"
   ]
  },
  {
   "cell_type": "code",
   "execution_count": 116,
   "id": "9b5b6d2c-6922-41dc-84e3-66e8e04fb705",
   "metadata": {},
   "outputs": [
    {
     "data": {
      "text/plain": [
       "array([[ 1,  2],\n",
       "       [ 9, 10],\n",
       "       [17, 18]])"
      ]
     },
     "execution_count": 116,
     "metadata": {},
     "output_type": "execute_result"
    }
   ],
   "source": [
    "w1[[0,2,4],1:3]"
   ]
  },
  {
   "cell_type": "markdown",
   "id": "3b0128a9-2779-4a78-be2d-1476567d9760",
   "metadata": {},
   "source": [
    "## iteration"
   ]
  },
  {
   "cell_type": "code",
   "execution_count": 28,
   "id": "9d9d489e-2ebf-4358-b62d-2d747f930052",
   "metadata": {},
   "outputs": [
    {
     "data": {
      "text/plain": [
       "array([[ 0,  1,  2,  3],\n",
       "       [ 4,  5,  6,  7],\n",
       "       [ 8,  9, 10, 11],\n",
       "       [12, 13, 14, 15],\n",
       "       [16, 17, 18, 19],\n",
       "       [20, 21, 22, 23]])"
      ]
     },
     "execution_count": 28,
     "metadata": {},
     "output_type": "execute_result"
    }
   ],
   "source": [
    "ar2"
   ]
  },
  {
   "cell_type": "code",
   "execution_count": 29,
   "id": "88d6c60f-b248-47ec-8093-17060cc4c18c",
   "metadata": {},
   "outputs": [
    {
     "name": "stdout",
     "output_type": "stream",
     "text": [
      "[0 1 2 3]\n",
      "[4 5 6 7]\n",
      "[ 8  9 10 11]\n",
      "[12 13 14 15]\n",
      "[16 17 18 19]\n",
      "[20 21 22 23]\n"
     ]
    }
   ],
   "source": [
    "for i in ar2:\n",
    "    print(i)"
   ]
  },
  {
   "cell_type": "code",
   "execution_count": 32,
   "id": "697e6d31-452b-44f1-a2cc-7a99db8c123b",
   "metadata": {},
   "outputs": [
    {
     "name": "stdout",
     "output_type": "stream",
     "text": [
      "0\n",
      "1\n",
      "2\n",
      "3\n",
      "4\n",
      "5\n",
      "6\n",
      "7\n",
      "8\n",
      "9\n",
      "10\n",
      "11\n",
      "12\n",
      "13\n",
      "14\n",
      "15\n",
      "16\n",
      "17\n",
      "18\n",
      "19\n",
      "20\n",
      "21\n",
      "22\n",
      "23\n"
     ]
    }
   ],
   "source": [
    "for i in np.nditer(ar2):\n",
    "    print(i)"
   ]
  },
  {
   "cell_type": "markdown",
   "id": "455f4cbb-c29d-4ce5-ba6d-d1ad1501ce1e",
   "metadata": {},
   "source": [
    "# numpy operations\n",
    "### 1: A+B\n",
    "### 2: A-B\n",
    "### 3: A*B\n",
    "### 4: A*4\n",
    "### 5: A+5\n",
    "### 6: A*B(element wise null)\n",
    "### 7: ADOT(B)\n",
    "### 8: A*=b\n"
   ]
  },
  {
   "cell_type": "code",
   "execution_count": 34,
   "id": "378641a6-f3fc-43c9-b7d2-5c19f4f3ad07",
   "metadata": {},
   "outputs": [
    {
     "data": {
      "text/plain": [
       "array([ 6,  8, 10, 12])"
      ]
     },
     "execution_count": 34,
     "metadata": {},
     "output_type": "execute_result"
    }
   ],
   "source": [
    "ar3=np.array([1,2,3,4])  # for addition\n",
    "ar4=np.array([5,6,7,8])\n",
    "sum_a=ar3+ar4\n",
    "sum_a\n"
   ]
  },
  {
   "cell_type": "code",
   "execution_count": 35,
   "id": "dc801ad3-8ead-42f7-bae8-9b7878374d8f",
   "metadata": {},
   "outputs": [
    {
     "data": {
      "text/plain": [
       "array([ 5, 12, 21, 32])"
      ]
     },
     "execution_count": 35,
     "metadata": {},
     "output_type": "execute_result"
    }
   ],
   "source": [
    "ar3=np.array([1,2,3,4])# multiplication\n",
    "ar4=np.array([5,6,7,8])\n",
    "sum_a=ar3*ar4\n",
    "sum_a"
   ]
  },
  {
   "cell_type": "code",
   "execution_count": 36,
   "id": "35446533-c36a-4666-8746-1bfcf894640d",
   "metadata": {},
   "outputs": [
    {
     "data": {
      "text/plain": [
       "array([-4, -4, -4, -4])"
      ]
     },
     "execution_count": 36,
     "metadata": {},
     "output_type": "execute_result"
    }
   ],
   "source": [
    "ar3=np.array([1,2,3,4])  # for subtraction\n",
    "ar4=np.array([5,6,7,8])\n",
    "sum_a=ar3-ar4\n",
    "sum_a"
   ]
  },
  {
   "cell_type": "code",
   "execution_count": 37,
   "id": "37a35548-438f-41e0-9f8f-42b7eac8d157",
   "metadata": {},
   "outputs": [
    {
     "data": {
      "text/plain": [
       "array([ 4,  8, 12, 16])"
      ]
     },
     "execution_count": 37,
     "metadata": {},
     "output_type": "execute_result"
    }
   ],
   "source": [
    "ar5=ar3*4\n",
    "ar5"
   ]
  },
  {
   "cell_type": "code",
   "execution_count": 47,
   "id": "17b1d5df-fff1-4b47-8127-6da15b1cc90f",
   "metadata": {},
   "outputs": [
    {
     "data": {
      "text/plain": [
       "array([[ 28,  31],\n",
       "       [100, 112]])"
      ]
     },
     "execution_count": 47,
     "metadata": {},
     "output_type": "execute_result"
    }
   ],
   "source": [
    "aa1=np.arange(6).reshape(2,3)    # because order ba ye hm bara bara\n",
    "aa2=np.arange(6,12).reshape(3,2)\n",
    "aaa4=aa1.dot(aa2)\n",
    "aaa4"
   ]
  },
  {
   "cell_type": "code",
   "execution_count": 48,
   "id": "cf00d537-8b3e-4e4a-88ab-76525dc67553",
   "metadata": {},
   "outputs": [
    {
     "data": {
      "text/plain": [
       "112"
      ]
     },
     "execution_count": 48,
     "metadata": {},
     "output_type": "execute_result"
    }
   ],
   "source": [
    "aaa4.max()"
   ]
  },
  {
   "cell_type": "code",
   "execution_count": 49,
   "id": "7f35643f-a9a4-4c56-b3ba-775ebd307f15",
   "metadata": {},
   "outputs": [
    {
     "data": {
      "text/plain": [
       "28"
      ]
     },
     "execution_count": 49,
     "metadata": {},
     "output_type": "execute_result"
    }
   ],
   "source": [
    "aaa4.min()\n"
   ]
  },
  {
   "cell_type": "code",
   "execution_count": 51,
   "id": "24b19ac8-32a1-4ab1-9487-a3a8de78b43a",
   "metadata": {},
   "outputs": [
    {
     "data": {
      "text/plain": [
       "38.499188303131795"
      ]
     },
     "execution_count": 51,
     "metadata": {},
     "output_type": "execute_result"
    }
   ],
   "source": [
    "aaa4.mean()\n",
    "aaa4.std()"
   ]
  },
  {
   "cell_type": "code",
   "execution_count": 53,
   "id": "9a321f81-79d9-4993-b441-de80f1dc9669",
   "metadata": {},
   "outputs": [
    {
     "data": {
      "text/plain": [
       "65.5"
      ]
     },
     "execution_count": 53,
     "metadata": {},
     "output_type": "execute_result"
    }
   ],
   "source": [
    "np.median(aaa4)     '''aaa4.mean()  \n",
    "                    np.median(aaa4) when i am accessing the mean() then direct function used\n",
    "                    but if i access median  then used np.medain why short and used very simple ord'''"
   ]
  },
  {
   "cell_type": "code",
   "execution_count": 59,
   "id": "d588dc48-b9e9-4852-b030-b7a5c619a753",
   "metadata": {},
   "outputs": [
    {
     "data": {
      "text/plain": [
       "array([1, 2, 3, 5, 4])"
      ]
     },
     "execution_count": 59,
     "metadata": {},
     "output_type": "execute_result"
    }
   ],
   "source": [
    "arrray=np.array([1.3,2.3,3.3,5.7,4.8],dtype=int)\n",
    "arrray\n"
   ]
  },
  {
   "cell_type": "markdown",
   "id": "844bdd29-f849-4121-aa08-1b39a8f5ee2f",
   "metadata": {},
   "source": [
    "# Reshaping numpy array\n",
    "## 1: Reshape\n",
    "## 1: ravel\n",
    "## 1: transpose\n",
    "## 1: stacking\n",
    "## 1: spliting\n",
    "\n"
   ]
  },
  {
   "cell_type": "code",
   "execution_count": 71,
   "id": "3e6e1152-138f-4872-8692-986342be36f1",
   "metadata": {},
   "outputs": [
    {
     "data": {
      "text/plain": [
       "array([ 0,  1,  2,  3,  4,  5,  6,  7,  8,  9, 10, 11, 12, 13, 14, 15, 16,\n",
       "       17, 18, 19])"
      ]
     },
     "execution_count": 71,
     "metadata": {},
     "output_type": "execute_result"
    }
   ],
   "source": [
    "a1=np.arange(20)\n",
    "a1"
   ]
  },
  {
   "cell_type": "code",
   "execution_count": 73,
   "id": "7436e65c-97a8-48ff-84c7-07c960b02fb4",
   "metadata": {},
   "outputs": [
    {
     "data": {
      "text/plain": [
       "array([[ 0,  1,  2,  3],\n",
       "       [ 4,  5,  6,  7],\n",
       "       [ 8,  9, 10, 11],\n",
       "       [12, 13, 14, 15],\n",
       "       [16, 17, 18, 19]])"
      ]
     },
     "execution_count": 73,
     "metadata": {},
     "output_type": "execute_result"
    }
   ],
   "source": [
    "a2=a1.reshape(5,4)\n",
    "a2"
   ]
  },
  {
   "cell_type": "code",
   "execution_count": 75,
   "id": "932674bf-b15c-4785-bbd3-f16618635f02",
   "metadata": {},
   "outputs": [
    {
     "data": {
      "text/plain": [
       "array([ 0,  1,  2,  3,  4,  5,  6,  7,  8,  9, 10, 11, 12, 13, 14, 15, 16,\n",
       "       17, 18, 19])"
      ]
     },
     "execution_count": 75,
     "metadata": {},
     "output_type": "execute_result"
    }
   ],
   "source": [
    "a3=a2.ravel()  # wapse da 5 by 4  matrix na 1D array julay\n",
    "a3"
   ]
  },
  {
   "cell_type": "code",
   "execution_count": 79,
   "id": "acd4f036-0e25-4f0e-8bed-720c979e4678",
   "metadata": {},
   "outputs": [
    {
     "data": {
      "text/plain": [
       "array([[ 0,  4,  8, 12, 16],\n",
       "       [ 1,  5,  9, 13, 17],\n",
       "       [ 2,  6, 10, 14, 18],\n",
       "       [ 3,  7, 11, 15, 19]])"
      ]
     },
     "execution_count": 79,
     "metadata": {},
     "output_type": "execute_result"
    }
   ],
   "source": [
    "a4=a2.transpose()  # trpose of a matrix or only write T\n",
    "a4"
   ]
  },
  {
   "cell_type": "code",
   "execution_count": 83,
   "id": "47fd8f72-3d06-48fb-a862-ab378aa67a30",
   "metadata": {},
   "outputs": [
    {
     "data": {
      "text/plain": [
       "array([[0, 1, 2],\n",
       "       [3, 4, 5]])"
      ]
     },
     "execution_count": 83,
     "metadata": {},
     "output_type": "execute_result"
    }
   ],
   "source": [
    "f=np.arange(6).reshape(2,3)\n",
    "f"
   ]
  },
  {
   "cell_type": "code",
   "execution_count": 84,
   "id": "0f51450f-9674-4d58-ae8d-5834265078f9",
   "metadata": {},
   "outputs": [
    {
     "data": {
      "text/plain": [
       "array([[ 6,  7,  8],\n",
       "       [ 9, 10, 11]])"
      ]
     },
     "execution_count": 84,
     "metadata": {},
     "output_type": "execute_result"
    }
   ],
   "source": [
    "f1=np.arange(6,12).reshape(2,3)\n",
    "f1"
   ]
  },
  {
   "cell_type": "code",
   "execution_count": 92,
   "id": "3450cab9-332e-4490-8e7e-6eed18942658",
   "metadata": {},
   "outputs": [
    {
     "data": {
      "text/plain": [
       "array([[ 0,  1,  2,  6,  7,  8],\n",
       "       [ 3,  4,  5,  9, 10, 11]])"
      ]
     },
     "execution_count": 92,
     "metadata": {},
     "output_type": "execute_result"
    }
   ],
   "source": [
    "f2=np.hstack((f,f1))  #  horizental arrays ku add karty hai\n",
    "f2"
   ]
  },
  {
   "cell_type": "code",
   "execution_count": 93,
   "id": "5a59b617-d0c4-40f7-91d5-0687a77d4a82",
   "metadata": {},
   "outputs": [
    {
     "data": {
      "text/plain": [
       "array([[ 0,  1,  2],\n",
       "       [ 3,  4,  5],\n",
       "       [ 6,  7,  8],\n",
       "       [ 9, 10, 11]])"
      ]
     },
     "execution_count": 93,
     "metadata": {},
     "output_type": "execute_result"
    }
   ],
   "source": [
    "f2=np.vstack((f,f1))  #  varticaly arrays ku add karty hai\n",
    "f2"
   ]
  },
  {
   "cell_type": "code",
   "execution_count": 100,
   "id": "98feb37d-1c00-4b66-aec2-f29d0f407d15",
   "metadata": {},
   "outputs": [
    {
     "data": {
      "text/plain": [
       "[array([[0, 1, 2],\n",
       "        [3, 4, 5]]),\n",
       " array([[ 6,  7,  8],\n",
       "        [ 9, 10, 11]])]"
      ]
     },
     "execution_count": 100,
     "metadata": {},
     "output_type": "execute_result"
    }
   ],
   "source": [
    "np.vsplit(f2,2)      # splitw function used to split the array in equal part\n",
    "                    # same vartical spliting"
   ]
  },
  {
   "cell_type": "markdown",
   "id": "c00db30d-e76b-405c-80c8-c719d9da1582",
   "metadata": {},
   "source": [
    "# Part 10 - Indexing with Boolean Arrays"
   ]
  },
  {
   "cell_type": "code",
   "execution_count": 122,
   "id": "1ed9d787-bcdd-4732-b08a-355431461df2",
   "metadata": {},
   "outputs": [
    {
     "data": {
      "text/plain": [
       "array([[62, 52, 31, 97],\n",
       "       [17, 61, 78, 93],\n",
       "       [61, 39, 15, 48],\n",
       "       [69, 28, 18, 18],\n",
       "       [29, 45, 29, 73],\n",
       "       [58, 90, 30, 57]])"
      ]
     },
     "execution_count": 122,
     "metadata": {},
     "output_type": "execute_result"
    }
   ],
   "source": [
    "ar8=np.random.randint(low=10,high=100,size=24).reshape(6,4)\n",
    "ar8"
   ]
  },
  {
   "cell_type": "code",
   "execution_count": 140,
   "id": "3dd288c4-52b8-49f3-9f3d-efae7236c32c",
   "metadata": {},
   "outputs": [
    {
     "data": {
      "text/plain": [
       "array([[17, 81, 65, 67],\n",
       "       [61, 32, 61, 29],\n",
       "       [74, 20, 15, 78],\n",
       "       [51, 42, 20, 36],\n",
       "       [44, 21, 73, 46],\n",
       "       [79, 32, 32, 83]])"
      ]
     },
     "execution_count": 140,
     "metadata": {},
     "output_type": "execute_result"
    }
   ],
   "source": [
    "ar8=np.random.randint(10,100,24).reshape(6,4) # same the by default it get first low then high then size\n",
    "ar8"
   ]
  },
  {
   "cell_type": "code",
   "execution_count": 123,
   "id": "a5c2703e-551c-47a6-90a4-6143f2af3bdc",
   "metadata": {},
   "outputs": [
    {
     "data": {
      "text/plain": [
       "array([62, 52, 97, 61, 78, 93, 61, 69, 73, 58, 90, 57])"
      ]
     },
     "execution_count": 123,
     "metadata": {},
     "output_type": "execute_result"
    }
   ],
   "source": [
    "ar8[ar8>50 ]"
   ]
  },
  {
   "cell_type": "code",
   "execution_count": 124,
   "id": "00c9a058-3dff-4e26-873d-02e4b67da170",
   "metadata": {},
   "outputs": [
    {
     "data": {
      "text/plain": [
       "array([62, 52, 78, 58, 90])"
      ]
     },
     "execution_count": 124,
     "metadata": {},
     "output_type": "execute_result"
    }
   ],
   "source": [
    "ar8[(ar8>50)&(ar8%2==0)]  # greater to 50 values then only even number"
   ]
  },
  {
   "cell_type": "code",
   "execution_count": 127,
   "id": "233048fd-f079-4c36-a05c-3387bd1623e1",
   "metadata": {},
   "outputs": [
    {
     "data": {
      "text/plain": [
       "array([[ 1,  1, 31, 97],\n",
       "       [17, 61,  1, 93],\n",
       "       [61, 39, 15, 48],\n",
       "       [69, 28, 18, 18],\n",
       "       [29, 45, 29, 73],\n",
       "       [ 1,  1, 30, 57]])"
      ]
     },
     "execution_count": 127,
     "metadata": {},
     "output_type": "execute_result"
    }
   ],
   "source": [
    "ar8[(ar8>50)&(ar8%2==0)]=1 # che 50 seva ye aw bya pa ke even ye nu hge za bandy 1 walagawa\n",
    "ar8"
   ]
  },
  {
   "cell_type": "code",
   "execution_count": 132,
   "id": "fa526ad8-fa65-449d-87cd-c2d4c028b4fb",
   "metadata": {},
   "outputs": [
    {
     "data": {
      "text/plain": [
       "(array([1, 2, 3, 4]), array([12, 34, 56,  8]))"
      ]
     },
     "execution_count": 132,
     "metadata": {},
     "output_type": "execute_result"
    }
   ],
   "source": [
    "x=np.array([1,2,3,4])\n",
    "y=np.array([12,34,56,8])\n",
    "x,y"
   ]
  }
 ],
 "metadata": {
  "kernelspec": {
   "display_name": "Python 3 (ipykernel)",
   "language": "python",
   "name": "python3"
  },
  "language_info": {
   "codemirror_mode": {
    "name": "ipython",
    "version": 3
   },
   "file_extension": ".py",
   "mimetype": "text/x-python",
   "name": "python",
   "nbconvert_exporter": "python",
   "pygments_lexer": "ipython3",
   "version": "3.12.4"
  }
 },
 "nbformat": 4,
 "nbformat_minor": 5
}
